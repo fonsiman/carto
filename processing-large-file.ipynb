{
 "cells": [
  {
   "cell_type": "code",
   "execution_count": 50,
   "metadata": {},
   "outputs": [
    {
     "name": "stdout",
     "output_type": "stream",
     "text": [
      "1114.0695533752441 seconds\n"
     ]
    }
   ],
   "source": [
    "import requests\n",
    "import time\n",
    "\n",
    "start_time = time.time()\n",
    "\n",
    "url = 'https://s3.amazonaws.com/carto-1000x/data/yellow_tripdata_2016-01.csv'\n",
    "\n",
    "r = requests.get(url)\n",
    "\n",
    "with open('data/ejercicio-carto.csv', 'wb') as f:\n",
    "    f.write(r.content)\n",
    "    \n",
    "print(\"{} seconds\".format(time.time() - start_time))"
   ]
  },
  {
   "cell_type": "code",
   "execution_count": 51,
   "metadata": {},
   "outputs": [
    {
     "name": "stdout",
     "output_type": "stream",
     "text": [
      "The file has 10906858 rows\n",
      "3.0314807891845703 seconds\n",
      "The 'tip_amount' mean is 1.7506631158122512\n",
      "15.180583238601685 seconds\n"
     ]
    }
   ],
   "source": [
    "import csv\n",
    "\n",
    "start_time = time.time()\n",
    "\n",
    "with open('data/ejercicio-carto.csv') as f:\n",
    "    rows = sum(1 for line in f) - 1\n",
    "    print(\"The file has {} rows\".format(rows))\n",
    "\n",
    "print(\"{} seconds\".format(time.time() - start_time))\n",
    "start_time = time.time()\n",
    "\n",
    "with open('data/ejercicio-carto.csv') as f:\n",
    "    tips = sum(float(line.split(',')[15]) for line in f if line.split(',')[15] != 'tip_amount')\n",
    "    print(\"The 'tip_amount' mean is {}\".format(tips/rows))\n",
    "\n",
    "\n",
    "print(\"{} seconds\".format(time.time() - start_time))\n"
   ]
  },
  {
   "cell_type": "code",
   "execution_count": null,
   "metadata": {},
   "outputs": [],
   "source": []
  }
 ],
 "metadata": {
  "kernelspec": {
   "display_name": "Python 3",
   "language": "python",
   "name": "python3"
  },
  "language_info": {
   "codemirror_mode": {
    "name": "ipython",
    "version": 3
   },
   "file_extension": ".py",
   "mimetype": "text/x-python",
   "name": "python",
   "nbconvert_exporter": "python",
   "pygments_lexer": "ipython3",
   "version": "3.7.3"
  }
 },
 "nbformat": 4,
 "nbformat_minor": 2
}
