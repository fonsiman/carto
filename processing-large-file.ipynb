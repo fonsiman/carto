{
 "cells": [
  {
   "cell_type": "markdown",
   "metadata": {},
   "source": [
    "# Processing a large file with Python\n",
    "\n",
    "The exercise asks to do it with *Python vanilla*, so I decided to use Python's own libraries:\n",
    "\n",
    "* To download the file, I use requests lib. This step takes a long time because the file is very heavy. I think that maybe there are other libraries faster, but that this is the simplest way using vanilla python.\n",
    "\n",
    "* To count the rows and to calculate the mean, I use python and csv lib. Other traditional libraries like pandas or dask are not vanilla python and take more time.\n",
    "\n",
    "## Downloading data"
   ]
  },
  {
   "cell_type": "code",
   "execution_count": 2,
   "metadata": {},
   "outputs": [
    {
     "name": "stdout",
     "output_type": "stream",
     "text": [
      "1188.582201719284 seconds\n"
     ]
    }
   ],
   "source": [
    "import requests\n",
    "import time\n",
    "\n",
    "start_time = time.time()\n",
    "\n",
    "url = 'https://s3.amazonaws.com/carto-1000x/data/yellow_tripdata_2016-01.csv'\n",
    "\n",
    "r = requests.get(url)\n",
    "\n",
    "with open('data/test-coding-skills.csv', 'wb') as f:\n",
    "    f.write(r.content)\n",
    "    \n",
    "print(\"{} seconds\".format(time.time() - start_time))"
   ]
  },
  {
   "cell_type": "markdown",
   "metadata": {},
   "source": [
    "## Counting rows"
   ]
  },
  {
   "cell_type": "code",
   "execution_count": 4,
   "metadata": {},
   "outputs": [
    {
     "name": "stdout",
     "output_type": "stream",
     "text": [
      "The file has 10906858 rows\n",
      "2.4852030277252197 seconds\n",
      "The 'tip_amount' mean is 1.7506631158122512\n",
      "13.921491622924805 seconds\n"
     ]
    }
   ],
   "source": [
    "import csv\n",
    "\n",
    "start_time = time.time()\n",
    "\n",
    "with open('data/test-coding-skills.csv') as f:\n",
    "    rows = sum(1 for line in f) - 1\n",
    "    print(\"The file has {} rows\".format(rows))\n",
    "\n",
    "print(\"{} seconds\".format(time.time() - start_time))\n",
    "start_time = time.time()\n",
    "\n",
    "with open('data/test-coding-skills.csv') as f:\n",
    "    tips = sum(float(line.split(',')[15]) for line in f if line.split(',')[15] != 'tip_amount')\n",
    "    print(\"The 'tip_amount' mean is {}\".format(tips/rows))\n",
    "\n",
    "\n",
    "print(\"{} seconds\".format(time.time() - start_time))\n"
   ]
  },
  {
   "cell_type": "code",
   "execution_count": null,
   "metadata": {},
   "outputs": [],
   "source": []
  }
 ],
 "metadata": {
  "kernelspec": {
   "display_name": "Python 3",
   "language": "python",
   "name": "python3"
  },
  "language_info": {
   "codemirror_mode": {
    "name": "ipython",
    "version": 3
   },
   "file_extension": ".py",
   "mimetype": "text/x-python",
   "name": "python",
   "nbconvert_exporter": "python",
   "pygments_lexer": "ipython3",
   "version": "3.7.3"
  }
 },
 "nbformat": 4,
 "nbformat_minor": 2
}
